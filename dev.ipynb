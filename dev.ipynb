{
 "cells": [
  {
   "cell_type": "code",
   "execution_count": 1,
   "metadata": {},
   "outputs": [],
   "source": [
    "## TODO: Identification\n",
    "## TODO: Verification"
   ]
  },
  {
   "cell_type": "code",
   "execution_count": 2,
   "metadata": {},
   "outputs": [],
   "source": [
    "import os\n",
    "import random\n",
    "import time\n",
    "\n",
    "import numpy as np\n",
    "import pandas as pd\n",
    "import scipy as sc\n",
    "from scipy.io import wavfile\n",
    "from scipy import signal\n",
    "import cv2\n",
    "\n",
    "import torch\n",
    "import torch.nn as nn\n",
    "import torch.optim as optim\n",
    "import torch.nn.functional as F\n",
    "from torch.utils.data import Dataset\n",
    "from torchvision.transforms import Compose\n",
    "\n",
    "from sklearn.metrics import roc_curve, roc_auc_score\n",
    "\n",
    "import tensorboardX\n",
    "from tqdm import tqdm\n",
    "\n",
    "import matplotlib.pyplot as plt"
   ]
  },
  {
   "cell_type": "code",
   "execution_count": 4,
   "metadata": {},
   "outputs": [],
   "source": [
    "DATASET_PATH = '/home/nvme/data/vc1/'"
   ]
  },
  {
   "cell_type": "code",
   "execution_count": 20,
   "metadata": {},
   "outputs": [],
   "source": [
    "class IdentificationDataset(Dataset):\n",
    "    \n",
    "    def __init__(self, path, train):\n",
    "        iden_split_path = os.path.join(path, 'iden_split.txt')\n",
    "        split = pd.read_table(iden_split_path, sep=' ', header=None, names=['phase', 'path'])\n",
    "        \n",
    "        if train:\n",
    "            phases = [1, 2]\n",
    "        \n",
    "        else:\n",
    "            phases = [3]\n",
    "            \n",
    "        mask = split['phase'].isin(phases)\n",
    "        self.dataset = split['path'][mask].reset_index(drop=True)\n",
    "        self.path = dataset_path\n",
    "        self.train = train\n",
    "        print(self.dataset.head(10))\n",
    "    \n",
    "    def __len__(self):\n",
    "        return len(self.dataset)\n",
    "    \n",
    "    def __getitem__(self, idx):\n",
    "        track_path = self.dataset[idx]\n",
    "        print(track_path)\n",
    "        \n",
    "        ## FACE\n",
    "        frames_path = os.path.join(self.path, 'audio', track_path.replace('.wav', '.txt'))\n",
    "        \n",
    "        \n",
    "        \n",
    "        ## AUDIO\n",
    "        os.path.join(self.path, 'audio', track_path)\n",
    "        \n",
    "        NotImplemented"
   ]
  },
  {
   "cell_type": "code",
   "execution_count": 21,
   "metadata": {},
   "outputs": [
    {
     "name": "stdout",
     "output_type": "stream",
     "text": [
      "0    id10003/tCq2LcKO6xY/00002.wav\n",
      "1    id10003/K5zRxtXc27s/00001.wav\n",
      "2    id10003/bDxy7bnj_bc/00004.wav\n",
      "3    id10003/E_6MjfYr0sQ/00011.wav\n",
      "4    id10003/5ablueV_1tw/00010.wav\n",
      "5    id10003/BQxxhq4539A/00016.wav\n",
      "6    id10003/yzIXg93UOIM/00029.wav\n",
      "7    id10003/BQxxhq4539A/00007.wav\n",
      "8    id10003/bDxy7bnj_bc/00006.wav\n",
      "9    id10003/E_6MjfYr0sQ/00015.wav\n",
      "Name: path, dtype: object\n"
     ]
    }
   ],
   "source": [
    "dataset = IdentificationDataset(IDENTITY_SPLIT_PATH, train=True)\n",
    "datasetloader = torch.utils.data.DataLoader(dataset, batch_size=2)"
   ]
  },
  {
   "cell_type": "code",
   "execution_count": 22,
   "metadata": {},
   "outputs": [
    {
     "name": "stdout",
     "output_type": "stream",
     "text": [
      "id10003/tCq2LcKO6xY/00002.wav\n",
      "id10003/K5zRxtXc27s/00001.wav\n",
      "\n",
      "id10003/bDxy7bnj_bc/00004.wav\n",
      "id10003/E_6MjfYr0sQ/00011.wav\n",
      "\n",
      "id10003/5ablueV_1tw/00010.wav\n",
      "id10003/BQxxhq4539A/00016.wav\n",
      "\n",
      "id10003/yzIXg93UOIM/00029.wav\n",
      "id10003/BQxxhq4539A/00007.wav\n",
      "\n",
      "id10003/bDxy7bnj_bc/00006.wav\n",
      "id10003/E_6MjfYr0sQ/00015.wav\n",
      "\n",
      "id10003/E_6MjfYr0sQ/00003.wav\n",
      "id10003/E_6MjfYr0sQ/00023.wav\n",
      "\n",
      "id10003/yzIXg93UOIM/00034.wav\n",
      "id10003/E_6MjfYr0sQ/00043.wav\n",
      "\n",
      "id10003/E_6MjfYr0sQ/00018.wav\n",
      "id10003/yzIXg93UOIM/00031.wav\n",
      "\n",
      "id10003/tCq2LcKO6xY/00001.wav\n",
      "id10003/A8SBCxYzJgs/00005.wav\n",
      "\n",
      "id10003/A8SBCxYzJgs/00004.wav\n",
      "id10003/FfmnkloV_zg/00002.wav\n",
      "\n",
      "id10003/E_6MjfYr0sQ/00020.wav\n",
      "id10003/yzIXg93UOIM/00010.wav\n",
      "\n",
      "id10003/bDxy7bnj_bc/00001.wav\n",
      "id10003/EGPV-Xa0LGk/00003.wav\n",
      "\n",
      "id10003/A8SBCxYzJgs/00006.wav\n",
      "id10003/yzIXg93UOIM/00002.wav\n",
      "\n",
      "id10003/K5zRxtXc27s/00002.wav\n",
      "id10003/BQxxhq4539A/00015.wav\n",
      "\n",
      "id10003/NC70RWJDnMg/00003.wav\n",
      "id10003/yzIXg93UOIM/00005.wav\n",
      "\n",
      "id10003/yzIXg93UOIM/00024.wav\n",
      "id10003/BQxxhq4539A/00011.wav\n",
      "\n",
      "id10003/E_6MjfYr0sQ/00040.wav\n",
      "id10003/5ablueV_1tw/00013.wav\n",
      "\n",
      "id10003/BQxxhq4539A/00017.wav\n",
      "id10003/E_6MjfYr0sQ/00035.wav\n",
      "\n",
      "id10003/E_6MjfYr0sQ/00032.wav\n",
      "id10003/yzIXg93UOIM/00025.wav\n",
      "\n",
      "id10003/bDxy7bnj_bc/00009.wav\n",
      "id10003/K5zRxtXc27s/00010.wav\n",
      "\n",
      "id10003/5ablueV_1tw/00018.wav\n",
      "id10003/yzIXg93UOIM/00022.wav\n",
      "\n",
      "id10003/_JpHD6VnJ3I/00002.wav\n",
      "id10003/5ablueV_1tw/00014.wav\n",
      "\n"
     ]
    }
   ],
   "source": [
    "for i, _ in enumerate(datasetloader, 0):\n",
    "    print()\n",
    "    \n",
    "    if i > 20:\n",
    "        break"
   ]
  },
  {
   "cell_type": "code",
   "execution_count": 26,
   "metadata": {},
   "outputs": [
    {
     "name": "stdout",
     "output_type": "stream",
     "text": [
      "/home/nvme/data/vc1/audio/id10003/5ablueV_1tw/00014.wav\n",
      "/home/nvme/data/vc1/video/id10003/5ablueV_1tw/00014.txt\n"
     ]
    }
   ],
   "source": [
    "a = 'id10003/5ablueV_1tw/00014.wav'\n",
    "print(os.path.join(DATASET_PATH, 'audio', a))\n",
    "print(os.path.join(DATASET_PATH, 'video', a.replace('.wav', '.txt')))"
   ]
  },
  {
   "cell_type": "code",
   "execution_count": null,
   "metadata": {},
   "outputs": [],
   "source": []
  }
 ],
 "metadata": {
  "kernelspec": {
   "display_name": "Python 3",
   "language": "python",
   "name": "python3"
  },
  "language_info": {
   "codemirror_mode": {
    "name": "ipython",
    "version": 3
   },
   "file_extension": ".py",
   "mimetype": "text/x-python",
   "name": "python",
   "nbconvert_exporter": "python",
   "pygments_lexer": "ipython3",
   "version": "3.5.2"
  }
 },
 "nbformat": 4,
 "nbformat_minor": 2
}
